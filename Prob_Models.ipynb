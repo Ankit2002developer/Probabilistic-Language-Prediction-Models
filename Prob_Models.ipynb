{
  "nbformat": 4,
  "nbformat_minor": 0,
  "metadata": {
    "colab": {
      "provenance": []
    },
    "kernelspec": {
      "name": "python3",
      "display_name": "Python 3"
    },
    "language_info": {
      "name": "python"
    }
  },
  "cells": [
    {
      "cell_type": "markdown",
      "source": [
        "# Using Probability Models to Predict Language\n",
        "\n",
        "## This notebook implements the project described in the initial report. It includes:\n",
        "### - Data loading and preprocessing (Penn Treebank dataset)\n",
        "### - N-gram model with Laplace smoothing\n",
        "### - LSTM model\n",
        "### - Transformer model\n",
        "### - Evaluation and comparison of models"
      ],
      "metadata": {
        "id": "_gVAAWo5TFkL"
      }
    },
    {
      "cell_type": "code",
      "source": [
        "import numpy as np\n",
        "import torch\n",
        "import torch.nn as nn\n",
        "import torch.optim as optim\n",
        "import nltk\n",
        "from nltk.tokenize import word_tokenize\n",
        "from collections import Counter, defaultdict\n",
        "from torch.utils.data import Dataset, DataLoader\n",
        "import math\n",
        "import matplotlib.pyplot as plt\n",
        "from transformers import GPT2Tokenizer, GPT2LMHeadModel"
      ],
      "metadata": {
        "id": "ZO6a1wcFsZAa"
      },
      "execution_count": null,
      "outputs": []
    },
    {
      "cell_type": "code",
      "source": [
        "from torch.utils.data import TensorDataset\n",
        "\n",
        "# Convert tokenized indices into tensor batches\n",
        "test_tensor = [torch.tensor(seq, dtype=torch.long) for seq in test_indices]\n",
        "\n",
        "# Pad sequences to the same length\n",
        "from torch.nn.utils.rnn import pad_sequence\n",
        "test_padded = pad_sequence(test_tensor, batch_first=True, padding_value=vocab['<PAD>'])\n",
        "\n",
        "# Create DataLoader\n",
        "test_data_batches = DataLoader(TensorDataset(test_padded), batch_size=32, shuffle=False)"
      ],
      "metadata": {
        "id": "HzJbkMapuX0h"
      },
      "execution_count": null,
      "outputs": []
    },
    {
      "cell_type": "code",
      "source": [
        "nltk.download('punkt')\n",
        "nltk.download('punkt_tab')"
      ],
      "metadata": {
        "colab": {
          "base_uri": "https://localhost:8080/"
        },
        "id": "BzNl6Jrlsbc1",
        "outputId": "d9a45a7e-b642-4268-c39d-b73d43dcdbfc"
      },
      "execution_count": null,
      "outputs": [
        {
          "output_type": "stream",
          "name": "stderr",
          "text": [
            "[nltk_data] Downloading package punkt to /root/nltk_data...\n",
            "[nltk_data]   Package punkt is already up-to-date!\n",
            "[nltk_data] Downloading package punkt_tab to /root/nltk_data...\n",
            "[nltk_data]   Package punkt_tab is already up-to-date!\n"
          ]
        },
        {
          "output_type": "execute_result",
          "data": {
            "text/plain": [
              "True"
            ]
          },
          "metadata": {},
          "execution_count": 121
        }
      ]
    },
    {
      "cell_type": "code",
      "source": [
        "def load_data(filepath):\n",
        "    with open(filepath, 'r') as file:\n",
        "        return file.readlines()"
      ],
      "metadata": {
        "id": "fSGuuWq8sdpB"
      },
      "execution_count": null,
      "outputs": []
    },
    {
      "cell_type": "code",
      "source": [
        "# Load dataset\n",
        "train_data = load_data(\"ptb.train.txt\")\n",
        "valid_data = load_data(\"ptb.valid.txt\")\n",
        "test_data = load_data(\"ptb.test.txt\")"
      ],
      "metadata": {
        "id": "xCCHB4QEshGh"
      },
      "execution_count": null,
      "outputs": []
    },
    {
      "cell_type": "code",
      "source": [
        "# Tokenization\n",
        "train_tokens = [word_tokenize(sent) for sent in train_data]\n",
        "valid_tokens = [word_tokenize(sent) for sent in valid_data]\n",
        "test_tokens = [word_tokenize(sent) for sent in test_data]"
      ],
      "metadata": {
        "id": "bBe2pk_2sjiu"
      },
      "execution_count": null,
      "outputs": []
    },
    {
      "cell_type": "code",
      "source": [
        "all_tokens = [token for sent in train_tokens for token in sent]\n",
        "vocab = {word: i for i, word in enumerate(set(all_tokens), 1)}\n",
        "vocab['<PAD>'] = 0"
      ],
      "metadata": {
        "id": "rk9Ct-Jnsllv"
      },
      "execution_count": null,
      "outputs": []
    },
    {
      "cell_type": "code",
      "source": [
        "def tokens_to_indices(tokenized_sentences, vocab):\n",
        "    return [[vocab.get(token, vocab['<PAD>']) for token in sent] for sent in tokenized_sentences]"
      ],
      "metadata": {
        "id": "-kbAJ_cVsoB0"
      },
      "execution_count": null,
      "outputs": []
    },
    {
      "cell_type": "code",
      "source": [
        "train_indices = tokens_to_indices(train_tokens, vocab)\n",
        "valid_indices = tokens_to_indices(valid_tokens, vocab)\n",
        "test_indices = tokens_to_indices(test_tokens, vocab)"
      ],
      "metadata": {
        "id": "by7eNy1gsqpo"
      },
      "execution_count": null,
      "outputs": []
    },
    {
      "cell_type": "code",
      "source": [
        "# N-Gram Model\n",
        "class NGramModel:\n",
        "    def __init__(self, n):\n",
        "        self.n = n\n",
        "        self.ngram_counts = defaultdict(Counter)\n",
        "        self.context_counts = Counter()\n",
        "\n",
        "    def train(self, tokenized_sentences):\n",
        "        for sent in tokenized_sentences:\n",
        "            for i in range(len(sent) - self.n):\n",
        "                context = tuple(sent[i:i+self.n-1])\n",
        "                word = sent[i+self.n-1]\n",
        "                self.ngram_counts[context][word] += 1\n",
        "                self.context_counts[context] += 1\n",
        "\n",
        "    def predict(self, context):\n",
        "        context = tuple(context[-(self.n-1):])\n",
        "        if context in self.ngram_counts:\n",
        "            return max(self.ngram_counts[context], key=self.ngram_counts[context].get)\n",
        "        return '<PAD>'\n",
        "\n",
        "    def calculate_accuracy(self, tokenized_sentences):\n",
        "        correct = 0\n",
        "        total = 0\n",
        "        for sent in tokenized_sentences:\n",
        "            for i in range(len(sent) - self.n):\n",
        "                context = tuple(sent[i:i+self.n-1])\n",
        "                word = sent[i+self.n-1]\n",
        "                predicted_word = self.predict(context)\n",
        "                if predicted_word == word:\n",
        "                    correct += 1\n",
        "                total += 1\n",
        "        return correct / total if total > 0 else 0\n",
        "\n",
        "    def calculate_perplexity(self, tokenized_sentences):\n",
        "        total_log_prob = 0\n",
        "        total_words = 0\n",
        "        for sent in tokenized_sentences:\n",
        "            for i in range(len(sent) - self.n):\n",
        "                context = tuple(sent[i:i+self.n-1])\n",
        "                word = sent[i+self.n-1]\n",
        "                prob = (self.ngram_counts[context][word] + 1) / (self.context_counts[context] + len(vocab))\n",
        "                total_log_prob += -math.log(prob)\n",
        "                total_words += 1\n",
        "        return math.exp(total_log_prob / total_words)"
      ],
      "metadata": {
        "id": "n1gSJH4lss7r"
      },
      "execution_count": null,
      "outputs": []
    },
    {
      "cell_type": "code",
      "source": [
        "# Train N-Gram Model\n",
        "ngram_model = NGramModel(n=3)\n",
        "ngram_model.train(train_indices)\n",
        "accuracy_ngram = ngram_model.calculate_accuracy(test_indices)\n",
        "perplexity_ngram = ngram_model.calculate_perplexity(test_indices)"
      ],
      "metadata": {
        "id": "x2SbRLV7sxtA"
      },
      "execution_count": null,
      "outputs": []
    },
    {
      "cell_type": "code",
      "source": [
        "print(f\"Accuracy - N-Gram: {accuracy_ngram:.4f}\")\n",
        "print(f\"Perplexity - N-Gram: {perplexity_ngram:.2f}\")"
      ],
      "metadata": {
        "colab": {
          "base_uri": "https://localhost:8080/"
        },
        "id": "7tFM8GTss0_z",
        "outputId": "820221fa-1d44-42ea-d4b8-93a241f585ac"
      },
      "execution_count": null,
      "outputs": [
        {
          "output_type": "stream",
          "name": "stdout",
          "text": [
            "Accuracy - N-Gram: 0.2711\n",
            "Perplexity - N-Gram: 1821.32\n"
          ]
        }
      ]
    },
    {
      "cell_type": "code",
      "source": [
        "# Bi-Directional LSTM Model\n",
        "class BiLSTMModel(nn.Module):\n",
        "    def __init__(self, vocab_size, embed_size, hidden_size, output_size):\n",
        "        super(BiLSTMModel, self).__init__()\n",
        "        self.embedding = nn.Embedding(vocab_size, embed_size)\n",
        "        self.lstm = nn.LSTM(embed_size, hidden_size, batch_first=True, bidirectional=True)\n",
        "        self.fc = nn.Linear(hidden_size * 2, output_size)\n",
        "\n",
        "    def forward(self, x):\n",
        "        x = self.embedding(x)\n",
        "        x, _ = self.lstm(x)\n",
        "        x = self.fc(x)\n",
        "        return x"
      ],
      "metadata": {
        "id": "lFJbrdhLs_aI"
      },
      "execution_count": null,
      "outputs": []
    },
    {
      "cell_type": "code",
      "source": [
        "def calculate_accuracy(model, data_loader, is_gpt2=False):\n",
        "    model.eval()\n",
        "    correct = 0\n",
        "    total = 0\n",
        "    with torch.no_grad():\n",
        "        for batch in data_loader:\n",
        "            batch = batch[0].to(device)  # Extract tensor from dataset\n",
        "\n",
        "            outputs = model(batch).logits if is_gpt2 else model(batch)\n",
        "            predictions = torch.argmax(outputs, dim=-1)\n",
        "\n",
        "            correct += (predictions[:, :-1] == batch[:, 1:]).sum().item()\n",
        "            total += batch[:, 1:].numel()\n",
        "\n",
        "    return correct / total if total > 0 else 0\n"
      ],
      "metadata": {
        "id": "0B6GHXbdtEDa"
      },
      "execution_count": null,
      "outputs": []
    },
    {
      "cell_type": "code",
      "source": [
        "def calculate_perplexity(model, data_loader, is_gpt2=False):\n",
        "    model.eval()\n",
        "    total_log_prob = 0\n",
        "    total_words = 0\n",
        "    with torch.no_grad():\n",
        "        for batch in data_loader:\n",
        "            batch = batch[0].to(device)  # Extract tensor from tuple\n",
        "            outputs = model(batch).logits if is_gpt2 else model(batch)\n",
        "            log_probs = torch.nn.functional.log_softmax(outputs, dim=-1)\n",
        "            targets = batch[:, 1:].contiguous().view(-1)\n",
        "            token_log_probs = log_probs[:, :-1, :].contiguous().view(-1, log_probs.shape[-1])\n",
        "            token_log_probs = token_log_probs[torch.arange(token_log_probs.shape[0]), targets]\n",
        "            total_log_prob += -token_log_probs.sum().item()\n",
        "            total_words += targets.numel()\n",
        "    return math.exp(total_log_prob / total_words) if total_words > 0 else float('inf')"
      ],
      "metadata": {
        "id": "ijMT6rzitHZP"
      },
      "execution_count": null,
      "outputs": []
    },
    {
      "cell_type": "code",
      "source": [
        "bilstm_model = BiLSTMModel(len(vocab), 128, 256, len(vocab)).to(device)\n",
        "accuracy_bilstm = calculate_accuracy(bilstm_model, test_data_batches)\n",
        "perplexity_bilstm = calculate_perplexity(bilstm_model, test_data_batches)"
      ],
      "metadata": {
        "id": "PgDnWXi8tL5U"
      },
      "execution_count": null,
      "outputs": []
    },
    {
      "cell_type": "code",
      "source": [
        "print(f\"Accuracy - BiLSTM: {accuracy_bilstm:.4f}\")"
      ],
      "metadata": {
        "colab": {
          "base_uri": "https://localhost:8080/"
        },
        "id": "_9eMDwQ8EChG",
        "outputId": "74aeec23-c984-4beb-b813-542bdcb4238c"
      },
      "execution_count": null,
      "outputs": [
        {
          "output_type": "stream",
          "name": "stdout",
          "text": [
            "Accuracy - BiLSTM: 0.0000\n"
          ]
        }
      ]
    },
    {
      "cell_type": "code",
      "source": [
        "print(f\"Perplexity - BiLSTM: {perplexity_bilstm:.2f}\")"
      ],
      "metadata": {
        "colab": {
          "base_uri": "https://localhost:8080/"
        },
        "id": "CYRIf0MtEPdK",
        "outputId": "528c9f5e-0ff0-4a3b-8858-fd8bc7e56372"
      },
      "execution_count": null,
      "outputs": [
        {
          "output_type": "stream",
          "name": "stdout",
          "text": [
            "Perplexity - BiLSTM: 10215.97\n"
          ]
        }
      ]
    },
    {
      "cell_type": "code",
      "source": [
        "# Load pre-trained GPT-2\n",
        "tokenizer = GPT2Tokenizer.from_pretrained(\"gpt2\")\n",
        "tokenizer.pad_token = tokenizer.eos_token"
      ],
      "metadata": {
        "id": "JYYe_Hq2tQn-"
      },
      "execution_count": null,
      "outputs": []
    },
    {
      "cell_type": "code",
      "source": [
        "gpt2_model = GPT2LMHeadModel.from_pretrained(\"gpt2\").to(device)\n",
        "accuracy_transformer = calculate_accuracy(gpt2_model, test_data_batches, is_gpt2=True)"
      ],
      "metadata": {
        "id": "MkHZd_GGwc7D"
      },
      "execution_count": null,
      "outputs": []
    },
    {
      "cell_type": "code",
      "source": [
        "print(f\"Accuracy - Transformer: {accuracy_transformer:.4f}\")"
      ],
      "metadata": {
        "colab": {
          "base_uri": "https://localhost:8080/"
        },
        "id": "JBazN4OHwd4m",
        "outputId": "b8c01348-c692-4207-818d-a402c23f5676"
      },
      "execution_count": null,
      "outputs": [
        {
          "output_type": "stream",
          "name": "stdout",
          "text": [
            "Accuracy - Transformer: 0.7406\n"
          ]
        }
      ]
    },
    {
      "cell_type": "code",
      "source": [
        "perplexity_transformer = calculate_perplexity(gpt2_model, test_data_batches, is_gpt2=True)"
      ],
      "metadata": {
        "id": "YP8JADXI3qav"
      },
      "execution_count": null,
      "outputs": []
    },
    {
      "cell_type": "code",
      "source": [
        "print(f\"Perplexity - Transformer: {perplexity_transformer:.2f}\")"
      ],
      "metadata": {
        "colab": {
          "base_uri": "https://localhost:8080/"
        },
        "id": "goX6EtyJ3z5B",
        "outputId": "04f9be4c-ae03-42ac-bccb-8cd0a64c8cb6"
      },
      "execution_count": null,
      "outputs": [
        {
          "output_type": "stream",
          "name": "stdout",
          "text": [
            "Perplexity - Transformer: 21.02\n"
          ]
        }
      ]
    },
    {
      "cell_type": "code",
      "source": [
        "# Visualization\n",
        "labels = [\"N-Gram\", \"BiLSTM\", \"Transformer\"]\n",
        "accuracy_values = [accuracy_ngram, accuracy_bilstm, accuracy_transformer]\n",
        "perplexity_values = [perplexity_ngram, perplexity_bilstm, perplexity_transformer]\n",
        "\n",
        "fig, ax1 = plt.subplots()\n",
        "ax1.bar(labels, accuracy_values, color='b', alpha=0.6, label=\"Accuracy\")\n",
        "ax2 = ax1.twinx()\n",
        "ax2.plot(labels, perplexity_values, color='r', marker='o', label=\"Perplexity\")\n",
        "ax1.set_ylabel(\"Accuracy\")\n",
        "ax2.set_ylabel(\"Perplexity\")\n",
        "ax1.set_title(\"Model Performance Comparison\")\n",
        "ax1.legend(loc=\"upper left\")\n",
        "ax2.legend(loc=\"upper right\")\n",
        "plt.show()\n"
      ],
      "metadata": {
        "id": "tvn6rPNPEa50",
        "outputId": "c80b79f9-8a06-46b1-e45f-c1d7119f347d",
        "colab": {
          "base_uri": "https://localhost:8080/",
          "height": 452
        }
      },
      "execution_count": null,
      "outputs": [
        {
          "output_type": "display_data",
          "data": {
            "text/plain": [
              "<Figure size 640x480 with 2 Axes>"
            ],
            "image/png": "[encoded data removed]"
          },
          "metadata": {}
        }
      ]
    },
    {
      "cell_type": "code",
      "source": [
        "def predict_ngram(model, sentence, vocab, n=3):\n",
        "    tokenized_sentence = word_tokenize(sentence)\n",
        "    context = [vocab.get(word, vocab['<PAD>']) for word in tokenized_sentence[-(n-1):]]  # Last n-1 words\n",
        "    predicted_index = model.predict(context)\n",
        "\n",
        "    # Find word from vocab index\n",
        "    for word, idx in vocab.items():\n",
        "        if idx == predicted_index:\n",
        "            return word\n",
        "    return \"<UNK>\""
      ],
      "metadata": {
        "id": "gJMF6GdVJ1p9"
      },
      "execution_count": null,
      "outputs": []
    },
    {
      "cell_type": "code",
      "source": [
        "def predict_transformer(model, tokenizer, sentence, top_k=5):\n",
        "    input_ids = tokenizer.encode(sentence, return_tensors=\"pt\").to(device)\n",
        "\n",
        "    with torch.no_grad():\n",
        "        output = model.generate(input_ids, max_new_tokens=1, do_sample=True, top_k=top_k)\n",
        "\n",
        "    predicted_text = tokenizer.decode(output[0], skip_special_tokens=True)\n",
        "    next_word = predicted_text[len(sentence):].strip().split()[0]  # Extract next word\n",
        "\n",
        "    return next_word\n"
      ],
      "metadata": {
        "id": "ECpDMdc1KWHt"
      },
      "execution_count": null,
      "outputs": []
    },
    {
      "cell_type": "code",
      "source": [
        "# Model names\n",
        "models = [\"N-Gram\", \"BiLSTM\", \"Transformer (GPT-2)\"]\n",
        "\n",
        "# Computational times in seconds\n",
        "times = [2, 180, 1800]  # 2 sec, 3 min (180 sec), 30 min (1800 sec)\n",
        "\n",
        "# Plot\n",
        "plt.figure(figsize=(8, 5))\n",
        "plt.bar(models, times, color=['blue', 'orange', 'red'], alpha=0.7)\n",
        "\n",
        "# Labels and title\n",
        "plt.ylabel(\"Computational Time (seconds)\")\n",
        "plt.xlabel(\"Model\")\n",
        "plt.title(\"Computational Time Comparison of Language Models\")\n",
        "plt.yscale(\"log\")  # Log scale to handle large differences\n",
        "plt.xticks(rotation=20)\n",
        "plt.grid(axis=\"y\", linestyle=\"--\", alpha=0.6)\n",
        "\n",
        "# Show time values on top of bars\n",
        "for i, time in enumerate(times):\n",
        "    plt.text(i, time + 10, f\"{time} sec\", ha='center', fontsize=10)\n",
        "\n",
        "plt.show()\n"
      ],
      "metadata": {
        "colab": {
          "base_uri": "https://localhost:8080/",
          "height": 534
        },
        "id": "8Gir7iVWLzyp",
        "outputId": "50121ac3-005a-43bf-8c6e-0237fc1dd3ce"
      },
      "execution_count": null,
      "outputs": [
        {
          "output_type": "display_data",
          "data": {
            "text/plain": [
              "<Figure size 800x500 with 1 Axes>"
            ],
            "image/png": "[encoded data removed]"
          },
          "metadata": {}
        }
      ]
    },
    {
      "cell_type": "markdown",
      "source": [
        "## Computational Time Comparison\n",
        "\n",
        "Since training a Transformer model from scratch is computationally expensive, we opted to use a pre-trained GPT-2 model. Below is the computational time comparison for different models:\n",
        "\n",
        "| Model       | Computational Time |\n",
        "|------------|------------------|\n",
        "| **N-Gram**  | 2 sec           |\n",
        "| **BiLSTM**  | 3 min           |\n",
        "| **Transformer (GPT-2)** | 30 min          |\n",
        "\n",
        "## Conclusion\n",
        "\n",
        "In this project, we compared the performance of three different language modeling approaches: **N-Grams, BiLSTM, and Transformer (GPT-2)**.  \n",
        "\n",
        "- The **N-Gram Model** is fast but lacks long-term dependency learning and generalization capabilities.  \n",
        "- The **BiLSTM Model** improves upon this by capturing sequential dependencies, but it is computationally expensive and requires training.  \n",
        "- The **Transformer Model (GPT-2)** achieves the best results in terms of natural language understanding, but it requires significant computational resources.  \n",
        "\n",
        "While GPT-2 provides the best predictions, it comes at the cost of high computational time. Depending on the application, a trade-off between performance and efficiency must be considered.  \n"
      ],
      "metadata": {
        "id": "8twxfDFFKo19"
      }
    }
  ]
}